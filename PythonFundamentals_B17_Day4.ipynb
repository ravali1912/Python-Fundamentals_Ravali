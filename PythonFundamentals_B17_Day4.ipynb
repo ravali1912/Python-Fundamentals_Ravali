{
 "cells": [
  {
   "cell_type": "code",
   "execution_count": 1,
   "metadata": {},
   "outputs": [
    {
     "name": "stdout",
     "output_type": "stream",
     "text": [
      "['okra', 'bell peppers', 'lettuce', 'broccoli', 'carrot']\n"
     ]
    }
   ],
   "source": [
    "veggies = ['okra','bell peppers','lettuce','broccoli','carrot']\n",
    "print(veggies) #prints the list"
   ]
  },
  {
   "cell_type": "code",
   "execution_count": 2,
   "metadata": {},
   "outputs": [
    {
     "name": "stdout",
     "output_type": "stream",
     "text": [
      "<class 'list'>\n"
     ]
    }
   ],
   "source": [
    "veggies = ['okra','bell peppers','lettuce','broccoli','carrot']\n",
    "print(type(veggies)) #display type of list"
   ]
  },
  {
   "cell_type": "code",
   "execution_count": 3,
   "metadata": {},
   "outputs": [
    {
     "name": "stdout",
     "output_type": "stream",
     "text": [
      "broccoli\n"
     ]
    }
   ],
   "source": [
    "veggies = ['okra','bell peppers','lettuce','broccoli','carrot']\n",
    "print(veggies[3]) #random index is given, the variable will be displayed"
   ]
  },
  {
   "cell_type": "code",
   "execution_count": 10,
   "metadata": {},
   "outputs": [
    {
     "name": "stdout",
     "output_type": "stream",
     "text": [
      "2\n"
     ]
    }
   ],
   "source": [
    "veggies = ['okra','bell peppers','lettuce','broccoli','carrot']\n",
    "print(veggies.index('lettuce')) #prints the variable in that particular index"
   ]
  },
  {
   "cell_type": "code",
   "execution_count": 12,
   "metadata": {},
   "outputs": [
    {
     "name": "stdout",
     "output_type": "stream",
     "text": [
      "['okra', 'bell peppers', 'lettuce', 'broccoli', 'beetroot']\n"
     ]
    }
   ],
   "source": [
    "veggies = ['okra','bell peppers','lettuce','broccoli','carrot']\n",
    "veggies[4] = 'beetroot' #re-assigning the variable\n",
    "print(veggies)"
   ]
  },
  {
   "cell_type": "code",
   "execution_count": 15,
   "metadata": {},
   "outputs": [
    {
     "name": "stdout",
     "output_type": "stream",
     "text": [
      "['okra', 'bell peppers', 'lettuce', 'broccoli', 'carrot', 'potato']\n"
     ]
    }
   ],
   "source": [
    "veggies = ['okra','bell peppers','lettuce','broccoli','carrot']\n",
    "veggies.append('potato') #add a new element using append() method\n",
    "print(veggies)"
   ]
  },
  {
   "cell_type": "code",
   "execution_count": 17,
   "metadata": {},
   "outputs": [
    {
     "name": "stdout",
     "output_type": "stream",
     "text": [
      "['okra', 'tomato', 'bell peppers', 'lettuce', 'broccoli', 'carrot']\n"
     ]
    }
   ],
   "source": [
    "veggies = ['okra','bell peppers','lettuce','broccoli','carrot']\n",
    "veggies.insert(1,'tomato') #add a new element using insert() method\n",
    "print(veggies)"
   ]
  },
  {
   "cell_type": "code",
   "execution_count": 19,
   "metadata": {},
   "outputs": [
    {
     "name": "stdout",
     "output_type": "stream",
     "text": [
      "['okra', 'bell peppers', 'lettuce', 'broccoli']\n",
      "carrot\n"
     ]
    }
   ],
   "source": [
    "veggies = ['okra','bell peppers','lettuce','broccoli','carrot']\n",
    "a = veggies.pop() #no index is specified, so last element will be deleted.\n",
    "print(veggies)\n",
    "print(a) #stores the deleted element"
   ]
  },
  {
   "cell_type": "code",
   "execution_count": 20,
   "metadata": {},
   "outputs": [
    {
     "name": "stdout",
     "output_type": "stream",
     "text": [
      "['okra', 'bell peppers', 'broccoli', 'carrot']\n",
      "lettuce\n"
     ]
    }
   ],
   "source": [
    "veggies = ['okra','bell peppers','lettuce','broccoli','carrot']\n",
    "a = veggies.pop(2) #index is specified, so particular element will be deleted.\n",
    "print(veggies)\n",
    "print(a) #stores the deleted element"
   ]
  },
  {
   "cell_type": "code",
   "execution_count": 25,
   "metadata": {},
   "outputs": [
    {
     "name": "stdout",
     "output_type": "stream",
     "text": [
      "['okra', 'bell peppers', 'broccoli', 'carrot']\n"
     ]
    }
   ],
   "source": [
    "veggies = ['okra','bell peppers','lettuce','broccoli','carrot']\n",
    "del(veggies[2]) #particular element will be deleted using del function\n",
    "print(veggies)"
   ]
  },
  {
   "cell_type": "code",
   "execution_count": 29,
   "metadata": {},
   "outputs": [
    {
     "name": "stdout",
     "output_type": "stream",
     "text": [
      "[]\n"
     ]
    }
   ],
   "source": [
    "veggies = ['okra','bell peppers','lettuce','broccoli','carrot']\n",
    "veggies.clear() #whole list elements are cleared\n",
    "print(veggies)"
   ]
  },
  {
   "cell_type": "code",
   "execution_count": null,
   "metadata": {},
   "outputs": [],
   "source": []
  }
 ],
 "metadata": {
  "kernelspec": {
   "display_name": "Python 3",
   "language": "python",
   "name": "python3"
  },
  "language_info": {
   "codemirror_mode": {
    "name": "ipython",
    "version": 3
   },
   "file_extension": ".py",
   "mimetype": "text/x-python",
   "name": "python",
   "nbconvert_exporter": "python",
   "pygments_lexer": "ipython3",
   "version": "3.7.6"
  }
 },
 "nbformat": 4,
 "nbformat_minor": 4
}
