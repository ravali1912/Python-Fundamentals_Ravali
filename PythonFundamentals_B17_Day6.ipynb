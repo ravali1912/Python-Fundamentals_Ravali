{
 "cells": [
  {
   "cell_type": "code",
   "execution_count": 1,
   "metadata": {},
   "outputs": [
    {
     "name": "stdout",
     "output_type": "stream",
     "text": [
      "['sequence', 'monopoly', 'jenga', 'connect', 'pubg', 'ludo']\n"
     ]
    }
   ],
   "source": [
    "games = ['sequence','monopoly','jenga','connect','pubg','ludo']\n",
    "print(games)"
   ]
  },
  {
   "cell_type": "code",
   "execution_count": 24,
   "metadata": {},
   "outputs": [
    {
     "name": "stdout",
     "output_type": "stream",
     "text": [
      "sequence\n",
      "monopoly\n",
      "jenga\n",
      "connect\n",
      "pubg\n",
      "ludo\n"
     ]
    }
   ],
   "source": [
    "games = ['sequence','monopoly','jenga','connect','pubg','ludo']\n",
    "for x in games:\n",
    "    print(x)"
   ]
  },
  {
   "cell_type": "code",
   "execution_count": 25,
   "metadata": {},
   "outputs": [
    {
     "name": "stdout",
     "output_type": "stream",
     "text": [
      "Most popular game includes sequence\n",
      "Most popular game includes monopoly\n",
      "Most popular game includes jenga\n",
      "Most popular game includes connect\n",
      "Most popular game includes pubg\n",
      "Most popular game includes ludo\n",
      "Top Games of the year\n"
     ]
    }
   ],
   "source": [
    "games = ['sequence','monopoly','jenga','connect','pubg','ludo']\n",
    "for x in games:\n",
    "    print(f\"Most popular game includes {x}\")\n",
    "print('Top Games of the year')"
   ]
  },
  {
   "cell_type": "code",
   "execution_count": 27,
   "metadata": {},
   "outputs": [
    {
     "name": "stdout",
     "output_type": "stream",
     "text": [
      "b\n",
      "a\n",
      "n\n",
      "a\n",
      "n\n",
      "a\n"
     ]
    }
   ],
   "source": [
    "a = 'banana'\n",
    "for t in a:\n",
    "    print(t)"
   ]
  },
  {
   "cell_type": "code",
   "execution_count": 35,
   "metadata": {},
   "outputs": [
    {
     "name": "stdout",
     "output_type": "stream",
     "text": [
      "Sequence\n",
      "MONOPOLY\n",
      "Jenga\n",
      "Connect\n",
      "Pubg\n",
      "Ludo\n"
     ]
    }
   ],
   "source": [
    "games = ['sequence','monopoly','jenga','connect','pubg','ludo']\n",
    "for x in games:\n",
    "    if x == 'monopoly':\n",
    "        print(x.upper())\n",
    "    else:\n",
    "        print(x.title())"
   ]
  },
  {
   "cell_type": "code",
   "execution_count": null,
   "metadata": {},
   "outputs": [],
   "source": []
  }
 ],
 "metadata": {
  "kernelspec": {
   "display_name": "Python 3",
   "language": "python",
   "name": "python3"
  },
  "language_info": {
   "codemirror_mode": {
    "name": "ipython",
    "version": 3
   },
   "file_extension": ".py",
   "mimetype": "text/x-python",
   "name": "python",
   "nbconvert_exporter": "python",
   "pygments_lexer": "ipython3",
   "version": "3.7.6"
  }
 },
 "nbformat": 4,
 "nbformat_minor": 4
}
