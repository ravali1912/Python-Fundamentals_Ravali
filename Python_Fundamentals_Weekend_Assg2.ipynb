{
 "cells": [
  {
   "cell_type": "code",
   "execution_count": 13,
   "metadata": {},
   "outputs": [],
   "source": [
    "#Activity1\n",
    "class Restaurant:\n",
    "    def __init__(self,restaurant_name,cuisine_type):\n",
    "        self.name = restaurant_name\n",
    "        self.type = cuisine_type\n",
    "    def describe_restaurant(self):\n",
    "        print(f\"Welcome to {self.name}...!\")\n",
    "        print(f\"Our restaurant is famous for {self.type} food\")\n",
    "    def open_restaurant(self):\n",
    "        print(f\"{self.name} is now open\")"
   ]
  },
  {
   "cell_type": "code",
   "execution_count": 14,
   "metadata": {},
   "outputs": [],
   "source": [
    "aobj = restaurant(\"Bawarchi\",\"Indian\")"
   ]
  },
  {
   "cell_type": "code",
   "execution_count": 15,
   "metadata": {},
   "outputs": [
    {
     "name": "stdout",
     "output_type": "stream",
     "text": [
      "Welcome to Bawarchi...!\n",
      "Our restaurant is famous for Indian food\n"
     ]
    }
   ],
   "source": [
    "aobj.describe_restaurant()"
   ]
  },
  {
   "cell_type": "code",
   "execution_count": 16,
   "metadata": {},
   "outputs": [
    {
     "name": "stdout",
     "output_type": "stream",
     "text": [
      "Bawarchi is now open\n"
     ]
    }
   ],
   "source": [
    "aobj.open_restaurant()"
   ]
  },
  {
   "cell_type": "code",
   "execution_count": 38,
   "metadata": {},
   "outputs": [],
   "source": [
    "#Activity2\n",
    "class Icecream_stand(restaurant):\n",
    "    def __init__(self,flavors):\n",
    "        self.flavors = flavors\n",
    "    def icecream_flavors(self):\n",
    "        print(f\"{self.flavors} is your preferred flavor\")\n",
    "    "
   ]
  },
  {
   "cell_type": "code",
   "execution_count": 39,
   "metadata": {},
   "outputs": [],
   "source": [
    "bobj = restaurant(\"Naturals\",\"dessert\")"
   ]
  },
  {
   "cell_type": "code",
   "execution_count": 40,
   "metadata": {},
   "outputs": [],
   "source": [
    "bobj = Icecream_stand(\"Sitaphal\")"
   ]
  },
  {
   "cell_type": "code",
   "execution_count": 22,
   "metadata": {},
   "outputs": [
    {
     "name": "stdout",
     "output_type": "stream",
     "text": [
      "Naturals is now open\n"
     ]
    }
   ],
   "source": [
    "bobj.open_restaurant()"
   ]
  }
 ],
 "metadata": {
  "kernelspec": {
   "display_name": "Python 3",
   "language": "python",
   "name": "python3"
  },
  "language_info": {
   "codemirror_mode": {
    "name": "ipython",
    "version": 3
   },
   "file_extension": ".py",
   "mimetype": "text/x-python",
   "name": "python",
   "nbconvert_exporter": "python",
   "pygments_lexer": "ipython3",
   "version": "3.7.6"
  }
 },
 "nbformat": 4,
 "nbformat_minor": 4
}
