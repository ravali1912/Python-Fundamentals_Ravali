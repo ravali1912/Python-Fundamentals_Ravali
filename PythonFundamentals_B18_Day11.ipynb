{
 "cells": [
  {
   "cell_type": "code",
   "execution_count": 5,
   "metadata": {},
   "outputs": [
    {
     "name": "stdout",
     "output_type": "stream",
     "text": [
      "\n",
      " I have a Apple\n",
      "The colour of apple is Red\n"
     ]
    }
   ],
   "source": [
    "def describe_fruit(fruit_name,fruit_colour): #parameters\n",
    "    print(f\"\\n I have a {fruit_name.title()}\")\n",
    "    print(f\"The colour of {fruit_name} is {fruit_colour.title()}\")\n",
    "describe_fruit(\"apple\",\"red\")"
   ]
  },
  {
   "cell_type": "code",
   "execution_count": 14,
   "metadata": {},
   "outputs": [
    {
     "name": "stdout",
     "output_type": "stream",
     "text": [
      "\n",
      " I have a Mango\n",
      "The colour of mango is Yellow\n",
      "\n",
      " I have a Guava\n",
      "The colour of guava is Green\n",
      "\n",
      " I have a Cherry\n",
      "The colour of cherry is Red\n",
      "\n",
      " I have a Kiwi\n",
      "The colour of kiwi is Brown\n"
     ]
    }
   ],
   "source": [
    "describe_fruit(\"mango\",\"yellow\") #multiple function calls\n",
    "describe_fruit(\"guava\",\"green\")\n",
    "describe_fruit(\"cherry\",\"red\")\n",
    "describe_fruit(\"kiwi\",\"brown\")"
   ]
  },
  {
   "cell_type": "code",
   "execution_count": 9,
   "metadata": {},
   "outputs": [
    {
     "name": "stdout",
     "output_type": "stream",
     "text": [
      "\n",
      " I have a Strawberry\n",
      "The colour of strawberry is Red\n"
     ]
    }
   ],
   "source": [
    "describe_fruit(fruit_name=\"strawberry\",fruit_colour =\"red\") #keyword arguments"
   ]
  },
  {
   "cell_type": "code",
   "execution_count": 11,
   "metadata": {},
   "outputs": [
    {
     "name": "stdout",
     "output_type": "stream",
     "text": [
      "\n",
      " I have a Beans\n",
      "The colour of beans is Green\n"
     ]
    }
   ],
   "source": [
    "def describe_veg(veg_name,veg_colour = \"green\"): #default arguments\n",
    "    print(f\"\\n I have a {veg_name.title()}\")\n",
    "    print(f\"The colour of {veg_name} is {veg_colour.title()}\")\n",
    "describe_veg(\"beans\")"
   ]
  },
  {
   "cell_type": "code",
   "execution_count": 12,
   "metadata": {},
   "outputs": [
    {
     "name": "stdout",
     "output_type": "stream",
     "text": [
      "\n",
      " I have a Okra\n",
      "The colour of okra is Green\n"
     ]
    }
   ],
   "source": [
    "describe_veg(\"okra\") #when no argument is given,default argument is considered."
   ]
  },
  {
   "cell_type": "code",
   "execution_count": 13,
   "metadata": {},
   "outputs": [
    {
     "name": "stdout",
     "output_type": "stream",
     "text": [
      "\n",
      " I have a Brinjal\n",
      "The colour of brinjal is Purple\n"
     ]
    }
   ],
   "source": [
    "describe_veg(\"brinjal\",\"purple\") #when an argument is given the default argument gets replaced."
   ]
  },
  {
   "cell_type": "code",
   "execution_count": null,
   "metadata": {},
   "outputs": [],
   "source": []
  }
 ],
 "metadata": {
  "kernelspec": {
   "display_name": "Python 3",
   "language": "python",
   "name": "python3"
  },
  "language_info": {
   "codemirror_mode": {
    "name": "ipython",
    "version": 3
   },
   "file_extension": ".py",
   "mimetype": "text/x-python",
   "name": "python",
   "nbconvert_exporter": "python",
   "pygments_lexer": "ipython3",
   "version": "3.7.6"
  }
 },
 "nbformat": 4,
 "nbformat_minor": 4
}
