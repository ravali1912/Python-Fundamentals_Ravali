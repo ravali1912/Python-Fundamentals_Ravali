{
 "cells": [
  {
   "cell_type": "code",
   "execution_count": 1,
   "metadata": {},
   "outputs": [
    {
     "name": "stdout",
     "output_type": "stream",
     "text": [
      "{'Name': 'BMW', 'model': 'i8', 'year': 2010, 'color': 'blue'}\n"
     ]
    }
   ],
   "source": [
    "a = {'Name' : 'BMW', 'model' : 'i8', 'year': 2010, 'color' : 'blue'}\n",
    "print(a)"
   ]
  },
  {
   "cell_type": "code",
   "execution_count": 5,
   "metadata": {},
   "outputs": [
    {
     "name": "stdout",
     "output_type": "stream",
     "text": [
      "Name BMW\n",
      "model i8\n",
      "year 2010\n",
      "color blue\n"
     ]
    }
   ],
   "source": [
    "for x,y in a.items():\n",
    "   print(x,y)"
   ]
  },
  {
   "cell_type": "code",
   "execution_count": 8,
   "metadata": {},
   "outputs": [
    {
     "name": "stdout",
     "output_type": "stream",
     "text": [
      "key: Name\n",
      "value: BMW\n",
      "key: model\n",
      "value: i8\n",
      "key: year\n",
      "value: 2010\n",
      "key: color\n",
      "value: blue\n"
     ]
    }
   ],
   "source": [
    " for key,value in a.items():\n",
    "        print(\"key:\",key)\n",
    "        print(\"value:\",value)"
   ]
  },
  {
   "cell_type": "code",
   "execution_count": 14,
   "metadata": {},
   "outputs": [
    {
     "name": "stdout",
     "output_type": "stream",
     "text": [
      "\n",
      "Key: Name\n",
      "Value: BMW\n",
      "\n",
      "Key: Model\n",
      "Value: i8\n",
      "\n",
      "Key: Year\n",
      "Value: 2010\n",
      "\n",
      "Key: Color\n",
      "Value: blue\n"
     ]
    }
   ],
   "source": [
    " for key,value in a.items():\n",
    "        print(\"\\nKey:\",key.title())\n",
    "        print(\"Value:\",value)"
   ]
  },
  {
   "cell_type": "code",
   "execution_count": 16,
   "metadata": {},
   "outputs": [
    {
     "name": "stdout",
     "output_type": "stream",
     "text": [
      "Name\n",
      "Model\n",
      "Year\n",
      "Color\n"
     ]
    }
   ],
   "source": [
    "for x in a.keys():\n",
    "    print(x.title())"
   ]
  },
  {
   "cell_type": "code",
   "execution_count": 18,
   "metadata": {},
   "outputs": [
    {
     "name": "stdout",
     "output_type": "stream",
     "text": [
      "BMW\n",
      "i8\n",
      "2010\n",
      "blue\n"
     ]
    }
   ],
   "source": [
    "for x in a.values():\n",
    "    print(x)"
   ]
  },
  {
   "cell_type": "code",
   "execution_count": 19,
   "metadata": {},
   "outputs": [
    {
     "name": "stdout",
     "output_type": "stream",
     "text": [
      "key:Name\n",
      "value:BMW\n",
      "key:model\n",
      "value:i8\n",
      "key:year\n",
      "value:2010\n",
      "key:color\n",
      "value:blue\n"
     ]
    }
   ],
   "source": [
    "for key,value in a.items():\n",
    "        print(f\"key:{key}\")\n",
    "        print(f\"value:{value}\")"
   ]
  },
  {
   "cell_type": "code",
   "execution_count": 28,
   "metadata": {},
   "outputs": [
    {
     "name": "stdout",
     "output_type": "stream",
     "text": [
      "{'a1': 'pizza', 'b1': 'pasta', 'c1': 'burger', 'd1': 'noodles', 'e1': 'chocolate'}\n",
      "A1 favourite food is Pizza\n",
      "B1 favourite food is Pasta\n",
      "C1 favourite food is Burger\n",
      "D1 favourite food is Noodles\n",
      "E1 favourite food is Chocolate\n"
     ]
    }
   ],
   "source": [
    "fav_food = {'a1':'pizza', 'b1':'pasta','c1':'burger','d1':'noodles','e1':'chocolate'}\n",
    "print(fav_food)\n",
    "for name,food in fav_food.items():\n",
    "    print(f\"{name.title()} favourite food is {food.title()}\")"
   ]
  },
  {
   "cell_type": "code",
   "execution_count": null,
   "metadata": {},
   "outputs": [],
   "source": []
  }
 ],
 "metadata": {
  "kernelspec": {
   "display_name": "Python 3",
   "language": "python",
   "name": "python3"
  },
  "language_info": {
   "codemirror_mode": {
    "name": "ipython",
    "version": 3
   },
   "file_extension": ".py",
   "mimetype": "text/x-python",
   "name": "python",
   "nbconvert_exporter": "python",
   "pygments_lexer": "ipython3",
   "version": "3.7.6"
  }
 },
 "nbformat": 4,
 "nbformat_minor": 4
}
