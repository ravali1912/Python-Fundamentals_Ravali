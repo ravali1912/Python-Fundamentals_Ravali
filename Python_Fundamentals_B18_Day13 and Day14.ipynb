{
 "cells": [
  {
   "cell_type": "code",
   "execution_count": 1,
   "metadata": {},
   "outputs": [
    {
     "name": "stdout",
     "output_type": "stream",
     "text": [
      "red\n",
      "The given input colour is red\n"
     ]
    }
   ],
   "source": [
    "class colour: #declaring classname\n",
    "    def colour_name(self,name): #assigning it to self\n",
    "        self.name = name #attribute\n",
    "    def display(self): #method\n",
    "        print(self.name)\n",
    "    def greet(self): #method\n",
    "        print(f\"The given input colour is {self.name}\")\n",
    "xobj = colour() #object assignment to a class\n",
    "xobj.colour_name('red')\n",
    "xobj.display()\n",
    "xobj.greet()"
   ]
  },
  {
   "cell_type": "code",
   "execution_count": 17,
   "metadata": {},
   "outputs": [
    {
     "name": "stdout",
     "output_type": "stream",
     "text": [
      "Italian is your current cuisine\n",
      "Pizza is now served\n",
      "Bill : $20\n",
      "Indian is your current cuisine\n",
      "Thali is now served\n",
      "Bill : $30\n"
     ]
    }
   ],
   "source": [
    "class res:\n",
    "    def __init__(self,cuisine,meal,check): #constructor\n",
    "        self.cuisine = cuisine\n",
    "        self.meal = meal\n",
    "        self.check = check\n",
    "    def order(self):\n",
    "        print(f\"{self.cuisine} is your current cuisine\")\n",
    "    def food(self):\n",
    "        print(f\"{self.meal} is now served\")\n",
    "    def bill(self):\n",
    "        print(f\"Bill : {self.check}\")\n",
    "aobj = res(\"Italian\",\"Pizza\",\"$20\")\n",
    "aobj.order()\n",
    "aobj.food()\n",
    "aobj.bill() \n",
    "aobj = res(\"Indian\",\"Thali\",\"$30\")\n",
    "aobj.order()\n",
    "aobj.food()\n",
    "aobj.bill() "
   ]
  },
  {
   "cell_type": "code",
   "execution_count": null,
   "metadata": {},
   "outputs": [],
   "source": []
  },
  {
   "cell_type": "code",
   "execution_count": null,
   "metadata": {},
   "outputs": [],
   "source": []
  },
  {
   "cell_type": "code",
   "execution_count": null,
   "metadata": {},
   "outputs": [],
   "source": []
  }
 ],
 "metadata": {
  "kernelspec": {
   "display_name": "Python 3",
   "language": "python",
   "name": "python3"
  },
  "language_info": {
   "codemirror_mode": {
    "name": "ipython",
    "version": 3
   },
   "file_extension": ".py",
   "mimetype": "text/x-python",
   "name": "python",
   "nbconvert_exporter": "python",
   "pygments_lexer": "ipython3",
   "version": "3.7.6"
  }
 },
 "nbformat": 4,
 "nbformat_minor": 4
}
