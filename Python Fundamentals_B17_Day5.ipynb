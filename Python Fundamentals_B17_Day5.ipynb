{
 "cells": [
  {
   "cell_type": "code",
   "execution_count": 1,
   "metadata": {},
   "outputs": [
    {
     "name": "stdout",
     "output_type": "stream",
     "text": [
      "['pizza', 'burger', 'fries', 'pasta', 'icecream', 'chocolate']\n"
     ]
    }
   ],
   "source": [
    "food = ['pizza','burger','fries','pasta','icecream','chocolate']\n",
    "print(food)"
   ]
  },
  {
   "cell_type": "code",
   "execution_count": 2,
   "metadata": {},
   "outputs": [
    {
     "name": "stdout",
     "output_type": "stream",
     "text": [
      "['burger', 'chocolate', 'fries', 'icecream', 'pasta', 'pizza']\n",
      "['pizza', 'burger', 'fries', 'pasta', 'icecream', 'chocolate']\n"
     ]
    }
   ],
   "source": [
    "food = ['pizza','burger','fries','pasta','icecream','chocolate']\n",
    "print(sorted(food)) #temp sorting\n",
    "print(food) #as it is temporary sort, original order is maintained."
   ]
  },
  {
   "cell_type": "code",
   "execution_count": 5,
   "metadata": {},
   "outputs": [
    {
     "name": "stdout",
     "output_type": "stream",
     "text": [
      "['burger', 'chocolate', 'fries', 'icecream', 'pasta', 'pizza']\n"
     ]
    }
   ],
   "source": [
    "food = ['pizza','burger','fries','pasta','icecream','chocolate']\n",
    "food.sort() #Permanent sorting\n",
    "print(food)"
   ]
  },
  {
   "cell_type": "code",
   "execution_count": 6,
   "metadata": {},
   "outputs": [
    {
     "name": "stdout",
     "output_type": "stream",
     "text": [
      "['chocolate', 'icecream', 'pasta', 'fries', 'burger', 'pizza']\n"
     ]
    }
   ],
   "source": [
    "food = ['pizza','burger','fries','pasta','icecream','chocolate']\n",
    "food.reverse() #Reversing the list\n",
    "print(food)"
   ]
  },
  {
   "cell_type": "code",
   "execution_count": 7,
   "metadata": {},
   "outputs": [
    {
     "name": "stdout",
     "output_type": "stream",
     "text": [
      "6\n"
     ]
    }
   ],
   "source": [
    "food = ['pizza','burger','fries','pasta','icecream','chocolate']\n",
    "print(len(food)) #Prints the length of array"
   ]
  },
  {
   "cell_type": "code",
   "execution_count": 16,
   "metadata": {},
   "outputs": [
    {
     "name": "stdout",
     "output_type": "stream",
     "text": [
      "Chocolate is widely sold product in the world\n"
     ]
    }
   ],
   "source": [
    "food = ['pizza','burger','fries','pasta','icecream','chocolate']\n",
    "print(f\"{food[5].title()} is widely sold product in the world\")"
   ]
  },
  {
   "cell_type": "code",
   "execution_count": null,
   "metadata": {},
   "outputs": [],
   "source": []
  }
 ],
 "metadata": {
  "kernelspec": {
   "display_name": "Python 3",
   "language": "python",
   "name": "python3"
  },
  "language_info": {
   "codemirror_mode": {
    "name": "ipython",
    "version": 3
   },
   "file_extension": ".py",
   "mimetype": "text/x-python",
   "name": "python",
   "nbconvert_exporter": "python",
   "pygments_lexer": "ipython3",
   "version": "3.7.6"
  }
 },
 "nbformat": 4,
 "nbformat_minor": 4
}
