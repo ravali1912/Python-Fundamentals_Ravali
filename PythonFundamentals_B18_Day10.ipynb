{
 "cells": [
  {
   "cell_type": "code",
   "execution_count": 2,
   "metadata": {},
   "outputs": [
    {
     "name": "stdout",
     "output_type": "stream",
     "text": [
      "1\n",
      "2\n",
      "3\n",
      "4\n",
      "5\n",
      "6\n"
     ]
    }
   ],
   "source": [
    "i=1\n",
    "while i<=6: #executing while loop\n",
    "    print(i)\n",
    "    i+=1"
   ]
  },
  {
   "cell_type": "code",
   "execution_count": 3,
   "metadata": {},
   "outputs": [
    {
     "name": "stdout",
     "output_type": "stream",
     "text": [
      "\n",
      "Let me know which cuisine you would like to eat\n",
      "(I would love to have)Italian\n",
      "Italian\n",
      "\n",
      "Let me know which cuisine you would like to eat\n",
      "(I would love to have)continental\n",
      "continental\n",
      "\n",
      "Let me know which cuisine you would like to eat\n",
      "(I would love to have)quit\n",
      "quit\n"
     ]
    }
   ],
   "source": [
    "prompt = \"\\nLet me know which cuisine you would like to eat\"\n",
    "prompt += \"\\n(I would love to have)\"\n",
    "message = \" \"\n",
    "while message != \"quit\":\n",
    "    message = input(prompt)\n",
    "    print(message)"
   ]
  },
  {
   "cell_type": "code",
   "execution_count": null,
   "metadata": {},
   "outputs": [],
   "source": [
    "prompt = \"\\ntell me a number and i will print it for u\" #break statement\n",
    "prompt = \"\\n(The number is)\"\n",
    "while True:\n",
    "    number = input(prompt)\n",
    "    if number == 'quit':\n",
    "        print(\"quit\")\n",
    "        break\n",
    "    else:\n",
    "        print(f\"The number is {number}\")"
   ]
  },
  {
   "cell_type": "code",
   "execution_count": 9,
   "metadata": {},
   "outputs": [
    {
     "name": "stdout",
     "output_type": "stream",
     "text": [
      "Good morning!everyone\n"
     ]
    }
   ],
   "source": [
    "def greet(name): #defining a function\n",
    "    print(f\"Good morning!{name}\")\n",
    "\n",
    "greet(\"everyone\") #calling function"
   ]
  },
  {
   "cell_type": "code",
   "execution_count": 12,
   "metadata": {},
   "outputs": [
    {
     "name": "stdout",
     "output_type": "stream",
     "text": [
      "sum of two numbers is 5\n"
     ]
    }
   ],
   "source": [
    "def sum(a,b):\n",
    "    print(f\"sum of two numbers is {a+b}\")\n",
    "sum(2,3)"
   ]
  },
  {
   "cell_type": "code",
   "execution_count": null,
   "metadata": {},
   "outputs": [],
   "source": []
  },
  {
   "cell_type": "code",
   "execution_count": null,
   "metadata": {},
   "outputs": [],
   "source": []
  },
  {
   "cell_type": "code",
   "execution_count": null,
   "metadata": {},
   "outputs": [],
   "source": []
  }
 ],
 "metadata": {
  "kernelspec": {
   "display_name": "Python 3",
   "language": "python",
   "name": "python3"
  },
  "language_info": {
   "codemirror_mode": {
    "name": "ipython",
    "version": 3
   },
   "file_extension": ".py",
   "mimetype": "text/x-python",
   "name": "python",
   "nbconvert_exporter": "python",
   "pygments_lexer": "ipython3",
   "version": "3.7.6"
  }
 },
 "nbformat": 4,
 "nbformat_minor": 4
}
