{
 "cells": [
  {
   "cell_type": "code",
   "execution_count": 11,
   "metadata": {},
   "outputs": [
    {
     "name": "stdout",
     "output_type": "stream",
     "text": [
      "{'Child1': 'abc', 'colour': 'blue', 'age': 15}\n"
     ]
    }
   ],
   "source": [
    "a = {'Child1': 'abc', 'colour' : 'blue' ,'age' : 15 } #To create a dict\n",
    "print(a)"
   ]
  },
  {
   "cell_type": "code",
   "execution_count": 2,
   "metadata": {},
   "outputs": [
    {
     "data": {
      "text/plain": [
       "dict"
      ]
     },
     "execution_count": 2,
     "metadata": {},
     "output_type": "execute_result"
    }
   ],
   "source": [
    "type(a)"
   ]
  },
  {
   "cell_type": "code",
   "execution_count": 3,
   "metadata": {},
   "outputs": [
    {
     "name": "stdout",
     "output_type": "stream",
     "text": [
      "15\n"
     ]
    }
   ],
   "source": [
    "y = a[\"age\"] #to access values\n",
    "print(y)"
   ]
  },
  {
   "cell_type": "code",
   "execution_count": 9,
   "metadata": {},
   "outputs": [
    {
     "name": "stdout",
     "output_type": "stream",
     "text": [
      "Updated Dict is:  {'Child1': 'abc', 'colour': 'blue', 'age': 15, 'key2': 'c', 'key3': 'd'}\n"
     ]
    }
   ],
   "source": [
    "a['key2'] = 'c' #Adding new key-value pairs to dict\n",
    "a['key3'] = 'd'\n",
    "print(\"Updated Dict is: \", a) "
   ]
  },
  {
   "cell_type": "code",
   "execution_count": 19,
   "metadata": {},
   "outputs": [
    {
     "name": "stdout",
     "output_type": "stream",
     "text": [
      "The child favourite colour is blue\n",
      "The child updated favourite colour is red\n"
     ]
    }
   ],
   "source": [
    "a = {'Child1': 'abc', 'colour' : 'blue' ,'age' : 15 }\n",
    "print(f\"The child favourite colour is {a['colour']}\")\n",
    "a['colour'] = \"red\" #to update values in dict\n",
    "print(f\"The child updated favourite colour is {a['colour']}\")"
   ]
  },
  {
   "cell_type": "code",
   "execution_count": 12,
   "metadata": {},
   "outputs": [
    {
     "name": "stdout",
     "output_type": "stream",
     "text": [
      "he just turned 15\n"
     ]
    }
   ],
   "source": [
    "new_age = a['age'] #assigning to new variable\n",
    "print(f\"he just turned {new_age}\")"
   ]
  },
  {
   "cell_type": "code",
   "execution_count": 20,
   "metadata": {},
   "outputs": [
    {
     "name": "stdout",
     "output_type": "stream",
     "text": [
      "{'Child1': 'abc', 'colour': 'blue', 'age': 15, 'key2': 'c'}\n"
     ]
    }
   ],
   "source": [
    "a = {'Child1': 'abc', 'colour': 'blue', 'age': 15, 'key2': 'c', 'key3': 'd'}\n",
    "del a['key3'] #deleting an key-value pair\n",
    "print(a)"
   ]
  },
  {
   "cell_type": "code",
   "execution_count": null,
   "metadata": {},
   "outputs": [],
   "source": []
  }
 ],
 "metadata": {
  "kernelspec": {
   "display_name": "Python 3",
   "language": "python",
   "name": "python3"
  },
  "language_info": {
   "codemirror_mode": {
    "name": "ipython",
    "version": 3
   },
   "file_extension": ".py",
   "mimetype": "text/x-python",
   "name": "python",
   "nbconvert_exporter": "python",
   "pygments_lexer": "ipython3",
   "version": "3.7.6"
  }
 },
 "nbformat": 4,
 "nbformat_minor": 4
}
