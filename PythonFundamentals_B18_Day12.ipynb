{
 "cells": [
  {
   "cell_type": "code",
   "execution_count": 6,
   "metadata": {},
   "outputs": [
    {
     "data": {
      "text/plain": [
       "'Shinchan Nohora'"
      ]
     },
     "execution_count": 6,
     "metadata": {},
     "output_type": "execute_result"
    }
   ],
   "source": [
    "#firstname and last name in a proper format\n",
    "def format_name(first_name,last_name):\n",
    "    fullname = f\"{first_name} {last_name}\"\n",
    "    return fullname.title()\n",
    "format_name(\"Shinchan\",\"Nohora\")"
   ]
  },
  {
   "cell_type": "code",
   "execution_count": 7,
   "metadata": {},
   "outputs": [
    {
     "data": {
      "text/plain": [
       "'Kanak Gupta'"
      ]
     },
     "execution_count": 7,
     "metadata": {},
     "output_type": "execute_result"
    }
   ],
   "source": [
    "format_name(\"kanak\",\"gupta\")"
   ]
  },
  {
   "cell_type": "code",
   "execution_count": 9,
   "metadata": {},
   "outputs": [
    {
     "name": "stdout",
     "output_type": "stream",
     "text": [
      "Oswald Veenie\n"
     ]
    }
   ],
   "source": [
    "student = format_name(\"oswald\",\"veenie\")\n",
    "print(student)"
   ]
  },
  {
   "cell_type": "code",
   "execution_count": 11,
   "metadata": {},
   "outputs": [
    {
     "data": {
      "text/plain": [
       "{'first': 'Nobita',\n",
       " 'last': 'Nohora',\n",
       " 'ID': 'nobita18',\n",
       " 'password': 1234,\n",
       " 'Email': 'nobita1996@gmail.com'}"
      ]
     },
     "execution_count": 11,
     "metadata": {},
     "output_type": "execute_result"
    }
   ],
   "source": [
    "#returning a dictionary\n",
    "def person(first_name,last_name,userID,pwd,emailID):\n",
    "    p= {'first':first_name,'last':last_name,'ID':userID,'password':pwd,'Email':emailID}\n",
    "    return p\n",
    "person('Nobita','Nohora','nobita18',1234,'nobita1996@gmail.com')"
   ]
  },
  {
   "cell_type": "code",
   "execution_count": 12,
   "metadata": {},
   "outputs": [
    {
     "data": {
      "text/plain": [
       "{'first': 'Mark',\n",
       " 'last': 'Roling',\n",
       " 'ID': 'mark12',\n",
       " 'password': 7868,\n",
       " 'Email': 'mark19@gmail.com'}"
      ]
     },
     "execution_count": 12,
     "metadata": {},
     "output_type": "execute_result"
    }
   ],
   "source": [
    "person('Mark','Roling','mark12',7868,'mark19@gmail.com')"
   ]
  },
  {
   "cell_type": "code",
   "execution_count": 18,
   "metadata": {},
   "outputs": [
    {
     "name": "stdout",
     "output_type": "stream",
     "text": [
      "Congratulations to team...Cricket\n",
      "Congratulations to team...Hockey\n",
      "Congratulations to team...Soccer\n",
      "Congratulations to team...Billiards\n",
      "Congratulations to team...Marathon\n"
     ]
    }
   ],
   "source": [
    "sports = ['cricket','hockey','soccer','billiards','marathon']\n",
    "def match(games):\n",
    "    for x in games:\n",
    "        msg = f\"Congratulations to team...{x.title()}\"\n",
    "        print(msg)\n",
    "match(sports)"
   ]
  },
  {
   "cell_type": "code",
   "execution_count": 23,
   "metadata": {},
   "outputs": [
    {
     "name": "stdout",
     "output_type": "stream",
     "text": [
      "('pizza', 'pasta')\n"
     ]
    }
   ],
   "source": [
    "#arbitrary arguments\n",
    "def dominos_res(*menu):\n",
    "    print(menu)\n",
    "dominos_res('pizza','pasta')"
   ]
  },
  {
   "cell_type": "code",
   "execution_count": 26,
   "metadata": {},
   "outputs": [
    {
     "name": "stdout",
     "output_type": "stream",
     "text": [
      "('garlic bread', 'tacos', 'dip', 'choco lava cake', 'butterscotch mousse')\n"
     ]
    }
   ],
   "source": [
    "dominos_res('garlic bread','tacos','dip','choco lava cake','butterscotch mousse')"
   ]
  },
  {
   "cell_type": "code",
   "execution_count": null,
   "metadata": {},
   "outputs": [],
   "source": []
  }
 ],
 "metadata": {
  "kernelspec": {
   "display_name": "Python 3",
   "language": "python",
   "name": "python3"
  },
  "language_info": {
   "codemirror_mode": {
    "name": "ipython",
    "version": 3
   },
   "file_extension": ".py",
   "mimetype": "text/x-python",
   "name": "python",
   "nbconvert_exporter": "python",
   "pygments_lexer": "ipython3",
   "version": "3.7.6"
  }
 },
 "nbformat": 4,
 "nbformat_minor": 4
}
