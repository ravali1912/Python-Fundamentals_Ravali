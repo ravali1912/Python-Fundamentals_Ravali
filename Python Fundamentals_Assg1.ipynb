{
 "cells": [
  {
   "cell_type": "code",
   "execution_count": 3,
   "metadata": {},
   "outputs": [],
   "source": [
    "#Tshirt\n",
    "def make_shirt(size,text_msg):\n",
    "    print(f\"The size of the shirt is {size} and the text printed is {text_msg}\")"
   ]
  },
  {
   "cell_type": "code",
   "execution_count": 4,
   "metadata": {},
   "outputs": [
    {
     "name": "stdout",
     "output_type": "stream",
     "text": [
      "The size of the shirt is M and the text printed is Being Human\n"
     ]
    }
   ],
   "source": [
    "make_shirt('M','Being Human') #positional arguments"
   ]
  },
  {
   "cell_type": "code",
   "execution_count": 5,
   "metadata": {},
   "outputs": [
    {
     "name": "stdout",
     "output_type": "stream",
     "text": [
      "The size of the shirt is S and the text printed is OOPS\n"
     ]
    }
   ],
   "source": [
    "make_shirt(size ='S',text_msg ='OOPS') #keyword arguments"
   ]
  },
  {
   "cell_type": "code",
   "execution_count": 8,
   "metadata": {},
   "outputs": [],
   "source": [
    " #Large Shirts\n",
    "def make_shirt(size ='large',text_msg = \"I Love Python\"):\n",
    "    print(f\"The size of the shirt is {size} and the text printed is {text_msg}\")"
   ]
  },
  {
   "cell_type": "code",
   "execution_count": 9,
   "metadata": {},
   "outputs": [
    {
     "name": "stdout",
     "output_type": "stream",
     "text": [
      "The size of the shirt is large and the text printed is I Love Python\n"
     ]
    }
   ],
   "source": [
    "make_shirt()"
   ]
  },
  {
   "cell_type": "code",
   "execution_count": 44,
   "metadata": {},
   "outputs": [],
   "source": [
    "def make_shirt(size,text_msg):\n",
    "    if(size == 'L' or size == 'M'):\n",
    "        print(f\"The size of shirt is {size} and the message written on them is GAP\")\n",
    "    else:\n",
    "        print(f\"The shirt size is {size} and the message written on it is {text_msg}\")"
   ]
  },
  {
   "cell_type": "code",
   "execution_count": 29,
   "metadata": {},
   "outputs": [
    {
     "name": "stdout",
     "output_type": "stream",
     "text": [
      "The size of shirt is L and the message written on them is GAP\n"
     ]
    }
   ],
   "source": [
    "make_shirt('L','hi')"
   ]
  },
  {
   "cell_type": "code",
   "execution_count": 28,
   "metadata": {},
   "outputs": [
    {
     "name": "stdout",
     "output_type": "stream",
     "text": [
      "The size of shirt is M and the message written on them is GAP\n"
     ]
    }
   ],
   "source": [
    "make_shirt('M','')"
   ]
  },
  {
   "cell_type": "code",
   "execution_count": 45,
   "metadata": {},
   "outputs": [
    {
     "name": "stdout",
     "output_type": "stream",
     "text": [
      "The shirt size is S and the message written on it is Allen Solly\n"
     ]
    }
   ],
   "source": [
    "make_shirt('S','Allen Solly')"
   ]
  },
  {
   "cell_type": "code",
   "execution_count": 32,
   "metadata": {},
   "outputs": [],
   "source": [
    "def describe_city(city,country):\n",
    "    print(f\"{city.title()} is located in {country.title()}\")"
   ]
  },
  {
   "cell_type": "code",
   "execution_count": 33,
   "metadata": {},
   "outputs": [
    {
     "name": "stdout",
     "output_type": "stream",
     "text": [
      "Jaipur is located in Rajasthan\n"
     ]
    }
   ],
   "source": [
    "describe_city('jaipur','rajasthan')"
   ]
  },
  {
   "cell_type": "code",
   "execution_count": 34,
   "metadata": {},
   "outputs": [
    {
     "name": "stdout",
     "output_type": "stream",
     "text": [
      "Washington is located in Usa\n"
     ]
    }
   ],
   "source": [
    "describe_city('washington','USA')"
   ]
  },
  {
   "cell_type": "code",
   "execution_count": 35,
   "metadata": {
    "scrolled": true
   },
   "outputs": [
    {
     "name": "stdout",
     "output_type": "stream",
     "text": [
      "Paris is located in Europe\n"
     ]
    }
   ],
   "source": [
    "describe_city('Paris','europe')"
   ]
  },
  {
   "cell_type": "code",
   "execution_count": 38,
   "metadata": {},
   "outputs": [],
   "source": [
    "def describe_city(city,country = 'India'): #Country value default\n",
    "    print(f\"{city.title()} is located in {country.title()}\")"
   ]
  },
  {
   "cell_type": "code",
   "execution_count": 41,
   "metadata": {},
   "outputs": [
    {
     "name": "stdout",
     "output_type": "stream",
     "text": [
      "Hyd is located in India\n"
     ]
    }
   ],
   "source": [
    "describe_city('Hyd',)"
   ]
  },
  {
   "cell_type": "code",
   "execution_count": 42,
   "metadata": {},
   "outputs": [
    {
     "name": "stdout",
     "output_type": "stream",
     "text": [
      "Delhi is located in India\n"
     ]
    }
   ],
   "source": [
    "describe_city('Delhi',)"
   ]
  },
  {
   "cell_type": "code",
   "execution_count": 43,
   "metadata": {},
   "outputs": [
    {
     "name": "stdout",
     "output_type": "stream",
     "text": [
      "France is located in India\n"
     ]
    }
   ],
   "source": [
    "describe_city('france',)"
   ]
  }
 ],
 "metadata": {
  "kernelspec": {
   "display_name": "Python 3",
   "language": "python",
   "name": "python3"
  },
  "language_info": {
   "codemirror_mode": {
    "name": "ipython",
    "version": 3
   },
   "file_extension": ".py",
   "mimetype": "text/x-python",
   "name": "python",
   "nbconvert_exporter": "python",
   "pygments_lexer": "ipython3",
   "version": "3.7.6"
  }
 },
 "nbformat": 4,
 "nbformat_minor": 4
}
